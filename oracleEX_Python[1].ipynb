{
 "cells": [
  {
   "cell_type": "markdown",
   "metadata": {},
   "source": [
    "# Conectar Python a Express\n",
    "\n",
    "En generar esto es sencillo sin embargo la libreria 'cx_Oracle' no esta disponible para python y sus ultimas versiones, en algunos blogs explican que es para 3.10 como version maxima y minima 2.7, pero la pagina de https://pypi.org/project/cx-Oracle/ explica que es entre las versiones 3.6 y 3.10.\n",
    "\n",
    "* **Cambiar de version python**\n",
    "\n",
    "1. Descargar la version en caso de usar PIP. https://www.python.org/downloads/release/python-3100/\n",
    "2. (Recomendacion de algunos blogs) Usar un entorno virtual con la version de python 3.10\n",
    "    1. pip install virtualenv\n",
    "    2. virtualenv -p /ruta/al/ejecutable/python deseado nombre_del_entorno\n",
    "3. Activar la version de python en tu venv virtualenv -p C:\\Python310\\python.exe mi_entorno_virtual\n",
    "\n"
   ]
  },
  {
   "cell_type": "code",
   "execution_count": null,
   "metadata": {},
   "outputs": [],
   "source": [
    "import cx_Oracle\n",
    "\n",
    "# Configura la conexión\n",
    "username = \"tu_usuario\"\n",
    "password = \"tu_contraseña\"\n",
    "host = \"localhost\"  # O la dirección IP de tu servidor Oracle XE\n",
    "port = 1521  # El puerto por defecto de Oracle\n",
    "service_name = \"xe\"  # El nombre del servicio de tu base de datos\n",
    "\n",
    "dsn = cx_Oracle.makedsn(host, port, service_name)\n",
    "connection = cx_Oracle.connect(username, password, dsn)\n",
    "\n",
    "# Realiza consultas y operaciones en la base de datos\n",
    "cursor = connection.cursor()\n",
    "cursor.execute(\"SELECT * FROM tu_tabla\")\n",
    "for row in cursor:\n",
    "    print(row)\n",
    "\n",
    "# Cierra la conexión\n",
    "cursor.close()\n",
    "connection.close()\n"
   ]
  },
  {
   "cell_type": "code",
   "execution_count": null,
   "metadata": {},
   "outputs": [],
   "source": []
  }
 ],
 "metadata": {
  "language_info": {
   "name": "python"
  }
 },
 "nbformat": 4,
 "nbformat_minor": 2
}
